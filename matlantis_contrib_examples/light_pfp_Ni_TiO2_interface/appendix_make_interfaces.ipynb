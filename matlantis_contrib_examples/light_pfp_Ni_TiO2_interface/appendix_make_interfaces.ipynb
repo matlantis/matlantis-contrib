{
 "cells": [
  {
   "cell_type": "markdown",
   "id": "ee944f1c-74b2-48f2-96dc-7adea66a35e0",
   "metadata": {},
   "source": [
    "# Appendix: Make Interface structure\n",
    "* This notebook shows how to make the Ni/TiO2 interface structures with pymatgen.\n",
    "* These structures are used for the validation of LightPFP models"
   ]
  },
  {
   "cell_type": "code",
   "execution_count": null,
   "id": "a363f79b-a9e5-417f-ac95-b0cd323e197f",
   "metadata": {},
   "outputs": [],
   "source": [
    "from ase.build import bulk\n",
    "from pymatgen.io.ase import AseAtomsAdaptor\n",
    "from pymatgen.analysis.interfaces.coherent_interfaces import CoherentInterfaceBuilder"
   ]
  },
  {
   "cell_type": "markdown",
   "id": "019986d8-d882-486d-bd6f-73d5f61284cd",
   "metadata": {},
   "source": [
    "* Download crystal TiO2 and Ni"
   ]
  },
  {
   "cell_type": "code",
   "execution_count": null,
   "id": "495dd7d8-99c1-47fd-ba34-24e12c43ec5b",
   "metadata": {},
   "outputs": [],
   "source": [
    "from mp_api.client import MPRester\n",
    "\n",
    "api_key = \"\" # Your Materials Project API KEY\n",
    "\n",
    "with MPRester(api_key) as m:\n",
    "    anatase_tio2 = m.get_structure_by_material_id(\"mp-390\", conventional_unit_cell=True)\n",
    "    ni = m.get_structure_by_material_id(\"mp-23\", conventional_unit_cell=True)"
   ]
  },
  {
   "cell_type": "markdown",
   "id": "663ea334-0fe4-4c61-a469-5f84c0f708dc",
   "metadata": {},
   "source": [
    "* 1st and 2nd structures: TiO2 (1 0 1) surface / Ni (1 1 1) surface"
   ]
  },
  {
   "cell_type": "code",
   "execution_count": null,
   "id": "47d65d20-44e9-4de2-9c08-901b9d39bfbf",
   "metadata": {},
   "outputs": [],
   "source": [
    "anatase_miller = (1, 0, 1)\n",
    "substrate_miller = (1, 1, 1)"
   ]
  },
  {
   "cell_type": "code",
   "execution_count": null,
   "id": "6441d0a4-fafe-470b-9bdd-697b5bf25b61",
   "metadata": {},
   "outputs": [],
   "source": [
    "from pathlib import Path\n",
    "\n",
    "structure_dir = Path(\"structures\")\n",
    "structure_dir.mkdir(exist_ok=True)"
   ]
  },
  {
   "cell_type": "code",
   "execution_count": null,
   "id": "a3f1009d-e217-4171-b0be-ff3a6a4d94a6",
   "metadata": {},
   "outputs": [],
   "source": [
    "cib = CoherentInterfaceBuilder(\n",
    "    substrate_structure=ni,\n",
    "    film_structure=anatase_tio2,\n",
    "    substrate_miller=substrate_miller,\n",
    "    film_miller=anatase_miller,\n",
    ")\n",
    "\n",
    "for i, termination in enumerate(cib.terminations):\n",
    "    interfaces = cib.get_interfaces(\n",
    "        termination=termination, \n",
    "        film_thickness=10, \n",
    "        substrate_thickness=10, \n",
    "        vacuum_over_film=2.0\n",
    "    )\n",
    "    structure = interfaces.__iter__().__next__()\n",
    "    atoms = AseAtomsAdaptor.get_atoms(structure)\n",
    "    atoms.write(structure_dir / f\"anatase_TiO2_Ni_{i}.xyz\")"
   ]
  },
  {
   "cell_type": "markdown",
   "id": "91dd4be5-bad6-4809-b892-af777f2e05b7",
   "metadata": {},
   "source": [
    "* 3st and 4nd structures: TiO2 (0 0 1) surface / Ni (1 1 0) surface"
   ]
  },
  {
   "cell_type": "code",
   "execution_count": null,
   "id": "8bb9944f-9016-4f71-bd93-3a91c4aa32db",
   "metadata": {},
   "outputs": [],
   "source": [
    "anatase_miller = (0, 0, 1)\n",
    "substrate_miller = (1, 1, 0)"
   ]
  },
  {
   "cell_type": "code",
   "execution_count": null,
   "id": "22eeddf0-4635-4731-9c1b-d1a696124b6a",
   "metadata": {},
   "outputs": [],
   "source": [
    "cib = CoherentInterfaceBuilder(\n",
    "    substrate_structure=ni,\n",
    "    film_structure=anatase_tio2,\n",
    "    substrate_miller=substrate_miller,\n",
    "    film_miller=anatase_miller,\n",
    ")"
   ]
  },
  {
   "cell_type": "code",
   "execution_count": null,
   "id": "fd0b2789-1d5c-46c9-9c66-bb34eb5354e6",
   "metadata": {},
   "outputs": [],
   "source": [
    "for i, termination in zip([2, 3], cib.terminations):\n",
    "    interfaces = cib.get_interfaces(\n",
    "        termination=termination, \n",
    "        film_thickness=3, \n",
    "        substrate_thickness=10, \n",
    "        vacuum_over_film=2.0\n",
    "    )\n",
    "    structure = interfaces.__iter__().__next__()\n",
    "    atoms = AseAtomsAdaptor.get_atoms(structure) * (2,1,1)\n",
    "    atoms.write(structure_dir / f\"anatase_TiO2_Ni_{i}.xyz\")"
   ]
  },
  {
   "cell_type": "markdown",
   "id": "20406968-87d5-4306-9fba-0582fef7749f",
   "metadata": {},
   "source": [
    "* 5st and 6nd structures: TiO2 (0 0 1) surface / Ni (1 0 0) surface"
   ]
  },
  {
   "cell_type": "code",
   "execution_count": null,
   "id": "5f4f92c4-2d61-4c77-a170-f7d610a5b46f",
   "metadata": {},
   "outputs": [],
   "source": [
    "anatase_miller = (0, 0, 1)\n",
    "substrate_miller = (1, 0, 0)"
   ]
  },
  {
   "cell_type": "code",
   "execution_count": null,
   "id": "cb8f6e49-7ceb-404e-8f2c-24bf96ed3a9a",
   "metadata": {},
   "outputs": [],
   "source": [
    "cib = CoherentInterfaceBuilder(\n",
    "    substrate_structure=ni,\n",
    "    film_structure=anatase_tio2,\n",
    "    substrate_miller=substrate_miller,\n",
    "    film_miller=anatase_miller,\n",
    ")"
   ]
  },
  {
   "cell_type": "code",
   "execution_count": null,
   "id": "425cd47d-9968-4086-aa19-3621290c4876",
   "metadata": {},
   "outputs": [],
   "source": [
    "for i, termination in zip([4, 5], cib.terminations):\n",
    "    interfaces = cib.get_interfaces(\n",
    "        termination=termination, \n",
    "        film_thickness=3, \n",
    "        substrate_thickness=8, \n",
    "        vacuum_over_film=2.0\n",
    "    )\n",
    "    structure = interfaces.__iter__().__next__()\n",
    "    atoms = AseAtomsAdaptor.get_atoms(structure) * (4,4,1)\n",
    "    atoms.write(structure_dir / f\"anatase_TiO2_Ni_{i}.xyz\")"
   ]
  }
 ],
 "metadata": {
  "kernelspec": {
   "display_name": "1: Python 3.11",
   "language": "python",
   "name": "python311"
  },
  "language_info": {
   "codemirror_mode": {
    "name": "ipython",
    "version": 3
   },
   "file_extension": ".py",
   "mimetype": "text/x-python",
   "name": "python",
   "nbconvert_exporter": "python",
   "pygments_lexer": "ipython3",
   "version": "3.11.11"
  }
 },
 "nbformat": 4,
 "nbformat_minor": 5
}
