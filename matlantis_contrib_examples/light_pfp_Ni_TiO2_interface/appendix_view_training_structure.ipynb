{
 "cells": [
  {
   "cell_type": "markdown",
   "id": "c84abe33-9078-431a-befb-3ee47f26d12a",
   "metadata": {},
   "source": [
    "# Appendix: View training structure\n",
    "* Check and visualize the training structure saved in the H5DF dataset.\n",
    "* Note: If the dataset is in usage, you will get the error."
   ]
  },
  {
   "cell_type": "code",
   "execution_count": null,
   "id": "b4cf5784-5709-4e54-b53d-939eadfba637",
   "metadata": {},
   "outputs": [],
   "source": [
    "dataset_file = \"autogen_workdir/dataset_7.h5\""
   ]
  },
  {
   "cell_type": "code",
   "execution_count": null,
   "id": "b8cf8cd3-9c20-430f-8690-8c14f1b3cbb6",
   "metadata": {},
   "outputs": [],
   "source": [
    "from h5py import File\n",
    "from light_pfp_data.utils.dataset import H5DatasetWriter\n",
    "\n",
    "dataset = H5DatasetWriter(File(dataset_file))"
   ]
  },
  {
   "cell_type": "code",
   "execution_count": null,
   "id": "9ee40ce8-65ea-4388-9346-b52d344e40ab",
   "metadata": {},
   "outputs": [],
   "source": [
    "print(f\"Structure ID upto: {dataset.keys[-1]}\")"
   ]
  },
  {
   "cell_type": "code",
   "execution_count": null,
   "id": "e0a763fe-e83a-4d83-9129-6d9d3eb2913f",
   "metadata": {},
   "outputs": [],
   "source": [
    "key = \"001500\""
   ]
  },
  {
   "cell_type": "code",
   "execution_count": null,
   "id": "d7e44a97-21f0-4d0a-a331-30411ce9f633",
   "metadata": {
    "scrolled": true
   },
   "outputs": [],
   "source": [
    "from ase.visualize import view\n",
    "\n",
    "atoms = dataset.get_atoms(key)\n",
    "atoms.wrap() # Wrap the structure\n",
    "view(atoms, viewer=\"ngl\")"
   ]
  }
 ],
 "metadata": {
  "kernelspec": {
   "display_name": "2: Python 3.9",
   "language": "python",
   "name": "python39"
  },
  "language_info": {
   "codemirror_mode": {
    "name": "ipython",
    "version": 3
   },
   "file_extension": ".py",
   "mimetype": "text/x-python",
   "name": "python",
   "nbconvert_exporter": "python",
   "pygments_lexer": "ipython3",
   "version": "3.9.16"
  }
 },
 "nbformat": 4,
 "nbformat_minor": 5
}
