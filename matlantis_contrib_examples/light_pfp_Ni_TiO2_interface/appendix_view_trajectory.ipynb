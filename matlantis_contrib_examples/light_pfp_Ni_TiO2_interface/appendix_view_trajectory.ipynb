{
 "cells": [
  {
   "cell_type": "markdown",
   "id": "a3706222-7de7-4d13-aa99-499090258f36",
   "metadata": {},
   "source": [
    "# Appendix: View the trajectory"
   ]
  },
  {
   "cell_type": "code",
   "execution_count": null,
   "id": "ed20e016-cc0c-4a29-83d2-05f2daa69555",
   "metadata": {},
   "outputs": [],
   "source": [
    "traj_name = \"light_pfp_md_large/light_pfp_md_anatase_TiO2_Ni_0_1600.traj\""
   ]
  },
  {
   "cell_type": "code",
   "execution_count": null,
   "id": "492c07e3-e96a-4e1a-9035-ee1dc7de555a",
   "metadata": {},
   "outputs": [],
   "source": [
    "from ase.io import Trajectory\n",
    "from ase.visualize import view\n",
    "\n",
    "traj = Trajectory(traj_name)\n",
    "view(traj, viewer=\"ngl\")"
   ]
  },
  {
   "cell_type": "code",
   "execution_count": null,
   "id": "10cfd043-5347-4966-930e-9e47c6d91062",
   "metadata": {},
   "outputs": [],
   "source": []
  }
 ],
 "metadata": {
  "kernelspec": {
   "display_name": "2: Python 3.9",
   "language": "python",
   "name": "python39"
  },
  "language_info": {
   "codemirror_mode": {
    "name": "ipython",
    "version": 3
   },
   "file_extension": ".py",
   "mimetype": "text/x-python",
   "name": "python",
   "nbconvert_exporter": "python",
   "pygments_lexer": "ipython3",
   "version": "3.9.16"
  }
 },
 "nbformat": 4,
 "nbformat_minor": 5
}
