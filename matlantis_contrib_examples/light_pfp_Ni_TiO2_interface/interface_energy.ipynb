{
 "cells": [
  {
   "cell_type": "markdown",
   "id": "43d2c661-b809-4b50-9609-d70bd41bb3e8",
   "metadata": {},
   "source": [
    "## Calculate the interface energies with PFP and LightPFP\n",
    "\n",
    "* The interface energy will be calculate with the following formula\n",
    "\n",
    "$$\n",
    "E_{interface} = E_{Ni/TiO_2} - E_{Ni} - E_{TiO_2}\n",
    "$$\n",
    "\n",
    "* We take the last frame of MD trajectories (at 1200K) as the initial interface structures."
   ]
  },
  {
   "cell_type": "code",
   "execution_count": null,
   "id": "482e8776-664f-419e-b6e2-e29e26c11008",
   "metadata": {},
   "outputs": [],
   "source": [
    "model_version=\"v7.0.0\"\n",
    "calc_mode=\"crystal_u0\"\n",
    "\n",
    "model_id = \"\" # SMALL Model\n",
    "workdir = \"light_pfp_md_small\"\n",
    "\n",
    "# model_id = \"\" # LARGE Model\n",
    "# workdir = \"light_pfp_md_large\"\n",
    "\n",
    "pfp_dir = \"pfp_md\""
   ]
  },
  {
   "cell_type": "code",
   "execution_count": null,
   "id": "db065f2b-9619-4f4e-b37d-0d20f833ba32",
   "metadata": {},
   "outputs": [],
   "source": [
    "from light_pfp_client import ASECalculator as LASECalculator \n",
    "from light_pfp_client import Estimator as LEstimator\n",
    "from pfp_api_client import Estimator, ASECalculator\n",
    "\n",
    "lpfp_calc = LASECalculator(LEstimator(model_id = model_id))\n",
    "calc = ASECalculator(Estimator(model_version=model_version, calc_mode=calc_mode))"
   ]
  },
  {
   "cell_type": "code",
   "execution_count": null,
   "id": "b7bf9b01-84a8-431d-8d1f-648d798b1fbc",
   "metadata": {},
   "outputs": [],
   "source": [
    "from ase.io import read\n",
    "from ase.optimize.fire import FIRE\n",
    "from ase.filters import FrechetCellFilter\n",
    "from IPython.display import clear_output\n",
    "\n",
    "\n",
    "def opt(atoms):\n",
    "    fcf = FrechetCellFilter(atoms)\n",
    "    fire = FIRE(fcf)\n",
    "    fire.run(steps = 1000, fmax=0.1)\n",
    "    clear_output()"
   ]
  },
  {
   "cell_type": "code",
   "execution_count": null,
   "id": "abdcd242-d3c6-4702-b8ab-a24bb9ee5844",
   "metadata": {},
   "outputs": [],
   "source": [
    "from mp_api.client import MPRester\n",
    "\n",
    "api_key = \"\" # Your Materials Project API KEY\n",
    "\n",
    "with MPRester(api_key) as m:\n",
    "    anatase_tio2 = m.get_structure_by_material_id(\"mp-390\", conventional_unit_cell=True)\n",
    "    ni = m.get_structure_by_material_id(\"mp-23\", conventional_unit_cell=True)"
   ]
  },
  {
   "cell_type": "markdown",
   "id": "09446942-9451-47d2-9aa2-bb0c73cce2f5",
   "metadata": {},
   "source": [
    "## 1. Get the potential energy of crystal Ni and TiO2"
   ]
  },
  {
   "cell_type": "code",
   "execution_count": null,
   "id": "e385bfb9-4e26-46e1-8560-2a4bd3eca6be",
   "metadata": {},
   "outputs": [],
   "source": [
    "import numpy as np\n",
    "\n",
    "anatase_tio2_pfp = anatase_tio2.copy()\n",
    "anatase_tio2_pfp.calc = calc\n",
    "opt(anatase_tio2_pfp)\n",
    "E_tio2_pfp = anatase_tio2_pfp.get_potential_energy() / (np.sum(anatase_tio2_pfp.numbers==22))\n",
    "print(f\"Energy of TiO2, PFP: {E_tio2_pfp} eV\")"
   ]
  },
  {
   "cell_type": "code",
   "execution_count": null,
   "id": "ae0bc6d8-84a5-4b92-bfcb-1306eb9b0a08",
   "metadata": {},
   "outputs": [],
   "source": [
    "anatase_tio2_lpfp = anatase_tio2.copy()\n",
    "anatase_tio2_lpfp.calc = lpfp_calc\n",
    "opt(anatase_tio2_lpfp)\n",
    "E_tio2_lpfp = anatase_tio2_lpfp.get_potential_energy() / (np.sum(anatase_tio2_lpfp.numbers==22))\n",
    "print(f\"Energy of TiO2, PFP: {E_tio2_lpfp} eV\")"
   ]
  },
  {
   "cell_type": "code",
   "execution_count": null,
   "id": "29c1ef24-2760-40ba-8020-bd1fd64761fb",
   "metadata": {},
   "outputs": [],
   "source": [
    "ni_pfp = ni.copy()\n",
    "ni_pfp.calc = calc\n",
    "opt(ni_pfp)\n",
    "E_ni_pfp = ni_pfp.get_potential_energy() / (np.sum(ni_pfp.numbers==28))\n",
    "print(f\"Energy of Ni, PFP: {E_ni_pfp} eV\")"
   ]
  },
  {
   "cell_type": "code",
   "execution_count": null,
   "id": "f332e07f-03e5-40e2-aee7-8f9caff3da27",
   "metadata": {},
   "outputs": [],
   "source": [
    "ni_lpfp = ni.copy()\n",
    "ni_lpfp.calc = lpfp_calc\n",
    "opt(ni_lpfp)\n",
    "E_ni_lpfp = ni_lpfp.get_potential_energy() / (np.sum(ni_lpfp.numbers==28))\n",
    "print(f\"Energy of Ni, PFP: {E_ni_lpfp} eV\")"
   ]
  },
  {
   "cell_type": "markdown",
   "id": "108ed059-5573-406a-ba07-e036a31430bb",
   "metadata": {},
   "source": [
    "## 2. Get the energy of interface structures"
   ]
  },
  {
   "cell_type": "code",
   "execution_count": null,
   "id": "cbb54fbb-bc86-4428-92b5-e81259d00cea",
   "metadata": {},
   "outputs": [],
   "source": [
    "from ase.io import Trajectory\n",
    "\n",
    "maters = [\"anatase_TiO2_Ni_0\", \"anatase_TiO2_Ni_1\", \"anatase_TiO2_Ni_2\", \"anatase_TiO2_Ni_3\", \"anatase_TiO2_Ni_4\", \"anatase_TiO2_Ni_5\"]\n",
    "title = [\n",
    "    \"Ni (111)/TiO2 (101) (Ti termination)\",\n",
    "    \"Ni (111)/TiO2 (101) (O termination)\",\n",
    "    \"Ni (110)/TiO2 (001) (Ti termination)\",\n",
    "    \"Ni (110)/TiO2 (001) (O termination)\",\n",
    "    \"Ni (100)/TiO2 (001) (Ti termination)\",\n",
    "    \"Ni (100)/TiO2 (001) (O termination)\",\n",
    "]\n",
    "surface_energy_lpfp = []\n",
    "surface_energy_pfp = []\n",
    "\n",
    "\n",
    "for mater in maters:\n",
    "    # LPFP\n",
    "    atoms = Trajectory(f\"{workdir}/light_pfp_md_{mater}_1200.traj\")[-1]\n",
    "    atoms.calc = lpfp_calc\n",
    "    opt(atoms)\n",
    "    E_lpfp = atoms.get_potential_energy()\n",
    "    n_ni = np.sum(atoms.numbers == 28)\n",
    "    n_tio2 = np.sum(atoms.numbers == 22)\n",
    "    surf = np.linalg.norm(np.cross(atoms.cell[0], atoms.cell[1]))\n",
    "    Es_lpfp = (E_lpfp - n_ni * E_ni_lpfp - n_tio2 * E_tio2_lpfp) / surf\n",
    "    surface_energy_lpfp.append(Es_lpfp)\n",
    "    # PFP\n",
    "    atoms = Trajectory(f\"{pfp_dir}/pfp_md_{mater}_1200.traj\")[-1]\n",
    "    atoms.calc = calc\n",
    "    opt(atoms)\n",
    "    E_pfp = atoms.get_potential_energy()\n",
    "    n_ni = np.sum(atoms.numbers == 28)\n",
    "    n_tio2 = np.sum(atoms.numbers == 22)\n",
    "    surf = np.linalg.norm(np.cross(atoms.cell[0], atoms.cell[1]))\n",
    "    Es_pfp = (E_pfp - n_ni * E_ni_pfp - n_tio2 * E_tio2_pfp) / surf\n",
    "    surface_energy_pfp.append(Es_pfp)"
   ]
  },
  {
   "cell_type": "markdown",
   "id": "3c6a5351-2df3-4460-a182-2645e94ef80f",
   "metadata": {},
   "source": [
    "## 3. Plot the results"
   ]
  },
  {
   "cell_type": "code",
   "execution_count": null,
   "id": "a830cdce-f0c5-4025-945d-7da39e5e24e4",
   "metadata": {},
   "outputs": [],
   "source": [
    "import matplotlib.pyplot as plt\n",
    "\n",
    "\n",
    "# Set the positions and width for the bars\n",
    "x = np.arange(len(maters))\n",
    "width = 0.35\n",
    "\n",
    "# Create the bar plot\n",
    "fig, ax = plt.subplots(figsize=(8, 8))\n",
    "bar1 = ax.bar(x - width/2, surface_energy_lpfp, width, label='LPFP', color='skyblue')\n",
    "bar2 = ax.bar(x + width/2, surface_energy_pfp, width, label='PFP', color='orange')\n",
    "\n",
    "# Add labels, title, and legend\n",
    "ax.set_ylabel('Interface Energy')\n",
    "ax.set_xticks(x)\n",
    "ax.set_xticklabels(title, rotation=60.0)\n",
    "ax.legend()\n",
    "\n",
    "# Optionally, add data labels\n",
    "def add_labels(bars):\n",
    "    for bar in bars:\n",
    "        height = bar.get_height()\n",
    "        ax.annotate(f'{height:.3f}',\n",
    "                    xy=(bar.get_x() + bar.get_width() / 2, height),\n",
    "                    xytext=(0, 3),  # 3 points vertical offset\n",
    "                    textcoords=\"offset points\",\n",
    "                    ha='center', va='bottom')\n",
    "\n",
    "add_labels(bar1)\n",
    "add_labels(bar2)\n",
    "\n",
    "# Tight layout to ensure labels are not cut off\n",
    "fig.tight_layout()\n",
    "\n",
    "# Show plot\n",
    "plt.savefig(\"interface_energy.png\")"
   ]
  },
  {
   "cell_type": "code",
   "execution_count": null,
   "id": "f264712d-5354-4bd2-b9d7-d30d85b3b386",
   "metadata": {},
   "outputs": [],
   "source": []
  }
 ],
 "metadata": {
  "kernelspec": {
   "display_name": "1: Python 3.11",
   "language": "python",
   "name": "python311"
  },
  "language_info": {
   "codemirror_mode": {
    "name": "ipython",
    "version": 3
   },
   "file_extension": ".py",
   "mimetype": "text/x-python",
   "name": "python",
   "nbconvert_exporter": "python",
   "pygments_lexer": "ipython3",
   "version": "3.11.11"
  }
 },
 "nbformat": 4,
 "nbformat_minor": 5
}
