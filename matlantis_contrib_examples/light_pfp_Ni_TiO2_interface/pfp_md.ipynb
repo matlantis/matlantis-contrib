{
 "cells": [
  {
   "cell_type": "markdown",
   "id": "145a58aa-bc08-4678-8dd5-a1e536b377a9",
   "metadata": {},
   "source": [
    "# MD simulatuion of Ni/TiO2 interfaces with PFP\n",
    "\n",
    "* MD trajectories will be used for the valiation of LightPFP models"
   ]
  },
  {
   "cell_type": "code",
   "execution_count": null,
   "id": "63795341-9fd0-409d-a095-32ac2e92bb0e",
   "metadata": {},
   "outputs": [],
   "source": [
    "model_version=\"v7.0.0\"\n",
    "calc_mode=\"crystal_u0\""
   ]
  },
  {
   "cell_type": "markdown",
   "id": "185990e6-5168-455d-b2ae-215614f17475",
   "metadata": {},
   "source": [
    "* Define the MD script"
   ]
  },
  {
   "cell_type": "code",
   "execution_count": null,
   "id": "59cb4617-399c-49cf-978e-5198bfea9163",
   "metadata": {},
   "outputs": [],
   "source": [
    "import numpy as np\n",
    "from time import perf_counter\n",
    "from ase import units\n",
    "from ase.io import Trajectory\n",
    "from ase.md.langevin import Langevin\n",
    "from ase.md.nvtberendsen import NVTBerendsen\n",
    "from ase.md.npt import NPT\n",
    "from ase.md.velocitydistribution import MaxwellBoltzmannDistribution\n",
    "from light_pfp_data.utils.atoms_utils import convert_atoms_to_upper\n",
    "\n",
    "\n",
    "class PrintDyn:\n",
    "    def __init__(self, dyn, logfile=None):\n",
    "        self.dyn = dyn\n",
    "        self.st = perf_counter()\n",
    "        self.logfile = logfile\n",
    "        if self.logfile is not None:\n",
    "            with open(self.logfile, \"w\") as fd:\n",
    "                fd.write(\"# step E_tot E_pot density T elapsed_time\\n\")\n",
    "    def __call__(self):\n",
    "        dyn = self.dyn\n",
    "        atoms = dyn.atoms\n",
    "        msg = (\n",
    "            f\"{dyn.get_number_of_steps(): 6d} {atoms.get_total_energy():.3f} {atoms.get_potential_energy():.3f} \"\n",
    "            f\"{atoms.get_masses().sum() / units.kg / atoms.get_volume() * 1e27:.5f} \"\n",
    "            f\"{atoms.get_temperature():.1f} {perf_counter() - self.st:.2f}\"\n",
    "        )\n",
    "        print(msg)\n",
    "        if self.logfile is not None:\n",
    "            with open(self.logfile, \"a\") as fd:\n",
    "                fd.write(msg+\"\\n\")\n",
    "                \n",
    "\n",
    "def md_protocol(atoms, temperature, steps_nvt, steps_npt, traj):\n",
    "    \"\"\"\n",
    "    Define a MD script\n",
    "    1. NVT MD\n",
    "    2. NPT MD\n",
    "    \"\"\"\n",
    "    traj = Trajectory(traj, \"w\", atoms=atoms)\n",
    "    # Initialize atomic velocities according to Maxwell-Boltzmann distribution.\n",
    "    MaxwellBoltzmannDistribution(atoms, temperature_K=temperature)\n",
    "    \n",
    "    # Run a short NVT MD simulation (e.g., using Langevin dynamics) to equilibrate the structure.\n",
    "    md = Langevin(atoms, 1.0 * units.fs, temperature_K=temperature, friction=0.1)\n",
    "    print_info = PrintDyn(md)\n",
    "    md.attach(print_info, interval=100)\n",
    "    md.attach(traj.write, interval=100)\n",
    "    md.run(steps=steps_nvt)\n",
    "    \n",
    "    # Then run a longer NPT MD simulation to generate diverse training structures.\n",
    "    md = NPT(\n",
    "        atoms,\n",
    "        1.0 * units.fs,\n",
    "        temperature_K=temperature,\n",
    "        externalstress=1.0 * units.bar,\n",
    "        mask=np.eye(3),\n",
    "        ttime=20.0 * units.fs,\n",
    "        pfactor=2e6 * units.GPa * (units.fs**2)\n",
    "    )\n",
    "    print_info = PrintDyn(md)\n",
    "    md.attach(print_info, interval=100)\n",
    "    md.attach(traj.write, interval=100)\n",
    "    md.run(steps=steps_npt)\n"
   ]
  },
  {
   "cell_type": "code",
   "execution_count": null,
   "id": "f3bac2ff-1fde-4543-ad49-3e77076c9a49",
   "metadata": {},
   "outputs": [],
   "source": [
    "from ase.io import read\n",
    "from pfp_api_client import ASECalculator, Estimator\n",
    "\n",
    "def md_wrap(task, temperature):\n",
    "    atoms = read(f\"inputs/{task}.xyz\")\n",
    "    atoms = convert_atoms_to_upper(atoms)\n",
    "    calc = ASECalculator(Estimator(model_version=model_version, calc_mode=calc_mode))\n",
    "    atoms.calc = calc\n",
    "    md_protocol(atoms, temperature, 5000, 100000, f\"pfp_md/pfp_md_{task}_{temperature}.traj\")\n"
   ]
  },
  {
   "cell_type": "markdown",
   "id": "89fff844-de9e-44c6-8b12-1700e368d5a4",
   "metadata": {},
   "source": [
    "* Run MD tasks in parallel with joblib module"
   ]
  },
  {
   "cell_type": "code",
   "execution_count": null,
   "id": "91671054-7572-4aed-960b-629866a40534",
   "metadata": {},
   "outputs": [],
   "source": [
    "from pathlib import Path\n",
    "from joblib.parallel import Parallel, delayed\n",
    "\n",
    "Path(\"pfp_md\").mkdir(exist_ok=True)\n",
    "\n",
    "Parallel(n_jobs=3)(delayed(md_wrap)(task, temp) for task in [\"anatase_TiO2_Ni_0\", \"anatase_TiO2_Ni_1\", \"anatase_TiO2_Ni_2\", \"anatase_TiO2_Ni_3\", \"anatase_TiO2_Ni_4\", \"anatase_TiO2_Ni_5\"] for temp in [1200, 1400, 1600])"
   ]
  },
  {
   "cell_type": "code",
   "execution_count": null,
   "id": "a44fb652-303b-4ba9-9922-c3f89275430a",
   "metadata": {},
   "outputs": [],
   "source": []
  }
 ],
 "metadata": {
  "kernelspec": {
   "display_name": "1: Python 3.11",
   "language": "python",
   "name": "python311"
  },
  "language_info": {
   "codemirror_mode": {
    "name": "ipython",
    "version": 3
   },
   "file_extension": ".py",
   "mimetype": "text/x-python",
   "name": "python",
   "nbconvert_exporter": "python",
   "pygments_lexer": "ipython3",
   "version": "3.11.11"
  }
 },
 "nbformat": 4,
 "nbformat_minor": 5
}
